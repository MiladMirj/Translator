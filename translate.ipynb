{
 "cells": [
  {
   "cell_type": "markdown",
   "metadata": {},
   "source": [
    "# Selenium\n",
    "\n",
    "#  1-\n",
    "###         pip install selenium\n",
    "###         pip install --upgrade selenium\n",
    "# 2-\n",
    "\n",
    "### Download geckodriver.exe\n",
    " ### https://github.com/mozilla/geckodriver/releases"
   ]
  },
  {
   "cell_type": "code",
   "execution_count": 1,
   "metadata": {},
   "outputs": [],
   "source": [
    "from selenium import webdriver\n",
    "from selenium.webdriver.firefox.service import Service\n",
    "from selenium.webdriver.firefox.options import Options as FirefoxOptions\n",
    "from selenium.webdriver.common.by import By\n",
    "from selenium.webdriver.common.keys import Keys\n",
    "import time\n",
    "import os"
   ]
  },
  {
   "cell_type": "code",
   "execution_count": 2,
   "metadata": {},
   "outputs": [
    {
     "name": "stdout",
     "output_type": "stream",
     "text": [
      "4.2.0\n"
     ]
    }
   ],
   "source": [
    "print(webdriver.__version__)"
   ]
  },
  {
   "cell_type": "code",
   "execution_count": 3,
   "metadata": {},
   "outputs": [
    {
     "data": {
      "text/plain": [
       "'E:\\\\projects\\\\translate\\\\github\\\\resources'"
      ]
     },
     "execution_count": 3,
     "metadata": {},
     "output_type": "execute_result"
    }
   ],
   "source": [
    "main_path = os.path.dirname(os.path.abspath('translate.ipynb'))\n",
    "resource_path = os.path.join(main_path, 'resources')\n",
    "resource_path"
   ]
  },
  {
   "cell_type": "code",
   "execution_count": 4,
   "metadata": {},
   "outputs": [
    {
     "data": {
      "text/plain": [
       "'E:\\\\projects\\\\translate\\\\github\\\\resources\\\\geckodriver.exe'"
      ]
     },
     "execution_count": 4,
     "metadata": {},
     "output_type": "execute_result"
    }
   ],
   "source": [
    "driver_path = os.path.join(resource_path, 'geckodriver.exe')\n",
    "driver_path"
   ]
  },
  {
   "cell_type": "code",
   "execution_count": 5,
   "metadata": {},
   "outputs": [],
   "source": [
    "ser = Service(driver_path)\n",
    "op = FirefoxOptions()\n",
    "op.add_argument('--headless') ## for hiding the browser\n",
    "# Selenium v4\n",
    "driver = webdriver.Firefox(service=ser, options=op)\n",
    "# Selenium v3.x\n",
    "# driver = webdriver.Firefox(executable_path, driver_path, options=op)\n",
    "\n",
    "translate_link = 'https://www.google.com/search?client=firefox-b-d&q=translate'\n",
    "driver.get(translate_link)"
   ]
  },
  {
   "cell_type": "code",
   "execution_count": 6,
   "metadata": {},
   "outputs": [],
   "source": [
    "input_text = driver.find_element(by=By.ID, \n",
    "                                 value='tw-source-text-ta')\n",
    "\n",
    "langs = driver.find_element(by=By.ID, value='tw-tl')\n",
    "\n",
    "langs.click()\n",
    "\n",
    "langs_list = driver.find_elements(by=By.CLASS_NAME,\n",
    "                                 value='language_list_item')\n",
    "\n",
    "available_langs = []\n",
    "\n",
    "for l in langs_list:\n",
    "    if l.text != '':\n",
    "        available_langs.append(l.text)\n",
    "        if l.text == 'Spanish':\n",
    "            spanish = l"
   ]
  },
  {
   "cell_type": "code",
   "execution_count": 7,
   "metadata": {},
   "outputs": [
    {
     "data": {
      "text/plain": [
       "['Afrikaans',\n",
       " 'Akan',\n",
       " 'Albanian',\n",
       " 'Amharic',\n",
       " 'Arabic',\n",
       " 'Armenian',\n",
       " 'Assamese',\n",
       " 'Aymara',\n",
       " 'Azerbaijani',\n",
       " 'Bambara',\n",
       " 'Bangla',\n",
       " 'Basque',\n",
       " 'Belarusian',\n",
       " 'Bhojpuri',\n",
       " 'Bosnian',\n",
       " 'Bulgarian',\n",
       " 'Burmese',\n",
       " 'Catalan',\n",
       " 'Cebuano',\n",
       " 'Central Kurdish',\n",
       " 'Chinese (Simplified)',\n",
       " 'Chinese (Traditional)',\n",
       " 'Corsican',\n",
       " 'Croatian',\n",
       " 'Czech',\n",
       " 'Danish',\n",
       " 'Divehi',\n",
       " 'Dogri',\n",
       " 'Dutch',\n",
       " 'English',\n",
       " 'Esperanto',\n",
       " 'Estonian',\n",
       " 'Ewe',\n",
       " 'Filipino',\n",
       " 'Finnish',\n",
       " 'French',\n",
       " 'Galician',\n",
       " 'Ganda',\n",
       " 'Georgian',\n",
       " 'German',\n",
       " 'Goan Konkani',\n",
       " 'Greek',\n",
       " 'Guarani',\n",
       " 'Gujarati',\n",
       " 'Haitian Creole',\n",
       " 'Hausa',\n",
       " 'Hawaiian',\n",
       " 'Hebrew',\n",
       " 'Hindi',\n",
       " 'Hmong',\n",
       " 'Hungarian',\n",
       " 'Icelandic',\n",
       " 'Igbo',\n",
       " 'Iloko',\n",
       " 'Indonesian',\n",
       " 'Irish',\n",
       " 'Italian',\n",
       " 'Japanese',\n",
       " 'Javanese',\n",
       " 'Kannada',\n",
       " 'Kazakh',\n",
       " 'Khmer',\n",
       " 'Kinyarwanda',\n",
       " 'Korean',\n",
       " 'Krio',\n",
       " 'Kurdish',\n",
       " 'Kyrgyz',\n",
       " 'Lao',\n",
       " 'Latin',\n",
       " 'Latvian',\n",
       " 'Lingala',\n",
       " 'Lithuanian',\n",
       " 'Luxembourgish',\n",
       " 'Macedonian',\n",
       " 'Maithili',\n",
       " 'Malagasy',\n",
       " 'Malay',\n",
       " 'Malayalam',\n",
       " 'Maltese',\n",
       " 'Manipuri (Meitei Mayek)',\n",
       " 'Māori',\n",
       " 'Marathi',\n",
       " 'Mizo',\n",
       " 'Mongolian',\n",
       " 'Nepali',\n",
       " 'Northern Sotho',\n",
       " 'Norwegian',\n",
       " 'Nyanja',\n",
       " 'Odia',\n",
       " 'Oromo',\n",
       " 'Pashto',\n",
       " 'Persian',\n",
       " 'Polish',\n",
       " 'Portuguese',\n",
       " 'Punjabi',\n",
       " 'Quechua',\n",
       " 'Romanian',\n",
       " 'Russian',\n",
       " 'Samoan',\n",
       " 'Sanskrit',\n",
       " 'Scottish Gaelic',\n",
       " 'Serbian',\n",
       " 'Shona',\n",
       " 'Sindhi',\n",
       " 'Sinhala',\n",
       " 'Slovak',\n",
       " 'Slovenian',\n",
       " 'Somali',\n",
       " 'Southern Sotho',\n",
       " 'Spanish',\n",
       " 'Sundanese',\n",
       " 'Swahili',\n",
       " 'Swedish',\n",
       " 'Tajik',\n",
       " 'Tamil',\n",
       " 'Tatar',\n",
       " 'Telugu',\n",
       " 'Thai',\n",
       " 'Tigrinya',\n",
       " 'Tsonga',\n",
       " 'Turkish',\n",
       " 'Turkmen',\n",
       " 'Ukrainian',\n",
       " 'Urdu',\n",
       " 'Uyghur',\n",
       " 'Uzbek',\n",
       " 'Vietnamese',\n",
       " 'Welsh',\n",
       " 'Western Frisian',\n",
       " 'Xhosa',\n",
       " 'Yiddish',\n",
       " 'Yoruba',\n",
       " 'Zulu']"
      ]
     },
     "execution_count": 7,
     "metadata": {},
     "output_type": "execute_result"
    }
   ],
   "source": [
    "available_langs"
   ]
  },
  {
   "cell_type": "code",
   "execution_count": 8,
   "metadata": {},
   "outputs": [],
   "source": [
    "spanish.click()"
   ]
  },
  {
   "cell_type": "code",
   "execution_count": 9,
   "metadata": {},
   "outputs": [],
   "source": [
    "buttons = driver.find_elements(by=By.CLASS_NAME, \n",
    "                               value='tw-menu-btn-image')\n",
    "for button in buttons:\n",
    "    if button.get_attribute('title') == 'Clear source text':\n",
    "        clear = button\n",
    "        break"
   ]
  },
  {
   "cell_type": "code",
   "execution_count": 10,
   "metadata": {},
   "outputs": [],
   "source": [
    "def translate_text(text):\n",
    "    input_text.click()\n",
    "    try:\n",
    "        clear.click()\n",
    "    except Exception as e:\n",
    "        input_text.send_keys(Keys.CONTROL, 'a')\n",
    "        input_text.send_keys(Keys.BACK_SPACE)\n",
    "        print('error', repr(e))\n",
    "        \n",
    "    input_text.send_keys(text)\n",
    "    time.sleep(3)\n",
    "    target_text = driver.find_element(by=By.ID, \n",
    "                                      value='tw-target-text')\n",
    "    return target_text.text"
   ]
  },
  {
   "cell_type": "code",
   "execution_count": 12,
   "metadata": {},
   "outputs": [
    {
     "data": {
      "text/plain": [
       "'¿Suscribirse a code-surge?'"
      ]
     },
     "execution_count": 12,
     "metadata": {},
     "output_type": "execute_result"
    }
   ],
   "source": [
    "translate_text(\"Subscribe to code-surge?\")"
   ]
  },
  {
   "cell_type": "code",
   "execution_count": 13,
   "metadata": {},
   "outputs": [],
   "source": [
    "driver.close()"
   ]
  }
 ],
 "metadata": {
  "kernelspec": {
   "display_name": "code-surge",
   "language": "python",
   "name": "code-surge"
  },
  "language_info": {
   "codemirror_mode": {
    "name": "ipython",
    "version": 3
   },
   "file_extension": ".py",
   "mimetype": "text/x-python",
   "name": "python",
   "nbconvert_exporter": "python",
   "pygments_lexer": "ipython3",
   "version": "3.8.6"
  }
 },
 "nbformat": 4,
 "nbformat_minor": 2
}
